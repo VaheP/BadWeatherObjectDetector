{
 "cells": [
  {
   "cell_type": "code",
   "id": "initial_id",
   "metadata": {
    "collapsed": true,
    "ExecuteTime": {
     "end_time": "2024-11-07T19:56:20.413539Z",
     "start_time": "2024-11-07T19:56:20.402784Z"
    }
   },
   "source": [
    "from ultralytics import YOLO\n",
    "\n",
    "import cv2\n",
    "import matplotlib.pyplot as plt"
   ],
   "outputs": [],
   "execution_count": 12
  },
  {
   "metadata": {
    "ExecuteTime": {
     "end_time": "2024-11-07T19:56:20.831234Z",
     "start_time": "2024-11-07T19:56:20.787427Z"
    }
   },
   "cell_type": "code",
   "source": "model = YOLO(\"yolo11n.pt\")\n",
   "id": "429185e03065c32f",
   "outputs": [],
   "execution_count": 13
  },
  {
   "metadata": {
    "ExecuteTime": {
     "end_time": "2024-11-07T19:56:21.265384Z",
     "start_time": "2024-11-07T19:56:21.260433Z"
    }
   },
   "cell_type": "code",
   "source": [
    "def visualize_results(results): \n",
    "    for result in results:\n",
    "        img = result.orig_img  # Original image used for inference\n",
    "    \n",
    "        for box in result.boxes:\n",
    "            x1, y1, x2, y2 = map(int, box.xyxy[0])  # Top-left and bottom-right corner coordinates\n",
    "            label = result.names[int(box.cls[0])]  # Class label\n",
    "            confidence = box.conf[0]  # Confidence score\n",
    "            \n",
    "            cv2.rectangle(img, (x1, y1), (x2, y2), (255, 0, 0), 2)  # Blue box\n",
    "            cv2.putText(img, f\"{label} {confidence:.2f}\", (x1, y1 - 10), cv2.FONT_HERSHEY_SIMPLEX, 0.5, (255, 0, 0), 2)\n",
    "    \n",
    "        plt.imshow(cv2.cvtColor(img, cv2.COLOR_BGR2RGB))\n",
    "        plt.axis(\"off\")\n",
    "        plt.show()"
   ],
   "id": "a121df055b0bf842",
   "outputs": [],
   "execution_count": 14
  },
  {
   "metadata": {
    "ExecuteTime": {
     "end_time": "2024-11-07T19:56:22.666047Z",
     "start_time": "2024-11-07T19:56:21.791141Z"
    }
   },
   "cell_type": "code",
   "source": "predictions = model.predict(source=\"./datasets/DAWN/Fog/foggy-011.jpg\", show=True)",
   "id": "100b527113ae2749",
   "outputs": [
    {
     "name": "stdout",
     "output_type": "stream",
     "text": [
      "\n"
     ]
    },
    {
     "name": "stderr",
     "output_type": "stream",
     "text": [
      "2024-11-07 23:56:22.380 Python[37970:5928923] +[IMKClient subclass]: chose IMKClient_Modern\n",
      "2024-11-07 23:56:22.380 Python[37970:5928923] +[IMKInputSession subclass]: chose IMKInputSession_Modern\n"
     ]
    },
    {
     "name": "stdout",
     "output_type": "stream",
     "text": [
      "image 1/1 /Users/vahe/Downloads/DL_homeworks/semester_project/datasets/DAWN/Fog/foggy-011.jpg: 384x640 1 car, 7 traffic lights, 122.2ms\n",
      "Speed: 10.8ms preprocess, 122.2ms inference, 12.7ms postprocess per image at shape (1, 3, 384, 640)\n"
     ]
    }
   ],
   "execution_count": 15
  },
  {
   "metadata": {
    "ExecuteTime": {
     "end_time": "2024-11-07T19:56:22.718852Z",
     "start_time": "2024-11-07T19:56:22.683270Z"
    }
   },
   "cell_type": "code",
   "source": [
    "import os\n",
    "import numpy as np\n",
    "\n",
    "\n",
    "def load_ground_truth(file_path, img_width, img_height):\n",
    "    boxes = []\n",
    "    with open(file_path, 'r') as file:\n",
    "        for line in file:\n",
    "            class_id, x_center, y_center, width, height = map(float, line.strip().split())\n",
    "            x1 = int((x_center - width / 2) * img_width)\n",
    "            y1 = int((y_center - height / 2) * img_height)\n",
    "            x2 = int((x_center + width / 2) * img_width)\n",
    "            y2 = int((y_center + height / 2) * img_height)\n",
    "            boxes.append((int(class_id), x1, y1, x2, y2))\n",
    "    return boxes\n",
    "\n",
    "def calculate_iou(boxA, boxB):\n",
    "    xA = max(boxA[1], boxB[1])\n",
    "    yA = max(boxA[2], boxB[2])\n",
    "    xB = min(boxA[3], boxB[3])\n",
    "    yB = min(boxA[4], boxB[4])\n",
    "    interArea = max(0, xB - xA) * max(0, yB - yA)\n",
    "    \n",
    "    boxAArea = (boxA[3] - boxA[1]) * (boxA[4] - boxA[2])\n",
    "    boxBArea = (boxB[3] - boxB[1]) * (boxB[4] - boxB[2])\n",
    "    iou = interArea / float(boxAArea + boxBArea - interArea)\n",
    "    return iou\n",
    "\n",
    "def evaluate_model_on_folder(folder_path, gt_folder, model):\n",
    "    all_ious = []\n",
    "    for img_name in os.listdir(folder_path):\n",
    "        if not img_name.endswith(\".jpg\"):\n",
    "            continue\n",
    "        img_path = os.path.join(folder_path, img_name)\n",
    "        gt_path = os.path.join(gt_folder, os.path.splitext(img_name)[0] + \".txt\")\n",
    "        \n",
    "        img = cv2.imread(img_path)\n",
    "        img_height, img_width = img.shape[:2]\n",
    "        \n",
    "        gt_boxes = load_ground_truth(gt_path, img_width, img_height)\n",
    "        results = model.predict(source=img_path)\n",
    "        \n",
    "        for pred in results[0].boxes:\n",
    "            pred_class = int(pred.cls[0])\n",
    "            pred_box = [pred_class] + list(map(int, pred.xyxy[0].tolist()))\n",
    "            best_iou = 0.0\n",
    "            for gt_box in gt_boxes:\n",
    "                if pred_class == gt_box[0]:\n",
    "                    iou = calculate_iou(pred_box, gt_box)\n",
    "                    best_iou = max(best_iou, iou)\n",
    "            all_ious.append(best_iou)\n",
    "    \n",
    "    mean_iou = np.mean(all_ious)\n",
    "    return mean_iou\n",
    "\n"
   ],
   "id": "f31744218a58c674",
   "outputs": [],
   "execution_count": 16
  },
  {
   "metadata": {},
   "cell_type": "code",
   "outputs": [],
   "execution_count": null,
   "source": [
    "# Run evaluation on each folder (e.g., Fog, Rain, etc.)\n",
    "evaluate_model_on_folder(\"./datasets/DAWN/Fog\", \"./datasets/DAWN/Fog/Fog_YOLO_darknet\")"
   ],
   "id": "4e577383df1596d8"
  },
  {
   "metadata": {
    "ExecuteTime": {
     "end_time": "2024-11-07T19:56:30.062582Z",
     "start_time": "2024-11-07T19:56:30.056741Z"
    }
   },
   "cell_type": "code",
   "source": [
    "import shutil\n",
    "import random"
   ],
   "id": "7177230fa5957129",
   "outputs": [],
   "execution_count": 17
  },
  {
   "metadata": {
    "ExecuteTime": {
     "end_time": "2024-11-07T19:56:31.854219Z",
     "start_time": "2024-11-07T19:56:30.635136Z"
    }
   },
   "cell_type": "code",
   "source": [
    "dataset_dir = \"./datasets/DAWN\"\n",
    "categories = [\"Fog\", \"Rain\", \"Snow\", \"Sand\"]\n",
    "\n",
    "# Directories to store training and validation sets\n",
    "train_dir = \"./datasets/DAWN_split/train\"\n",
    "val_dir = \"./datasets/DAWN_split/val\"\n",
    "\n",
    "# Create directories if they don’t exist\n",
    "for folder in [train_dir, val_dir]:\n",
    "    os.makedirs(folder, exist_ok=True)\n",
    "    for cat in categories:\n",
    "        os.makedirs(os.path.join(folder, cat), exist_ok=True)\n",
    "\n",
    "# Split data into train and validation sets\n",
    "def split_data(train_ratio=0.8):\n",
    "    for category in categories:\n",
    "        category_dir = os.path.join(dataset_dir, category)\n",
    "        images = [f for f in os.listdir(category_dir) if f.endswith('.jpg')]\n",
    "        random.shuffle(images)\n",
    "        \n",
    "        split_idx = int(len(images) * train_ratio)\n",
    "        train_images = images[:split_idx]\n",
    "        val_images = images[split_idx:]\n",
    "        \n",
    "        for img_name in train_images:\n",
    "            shutil.copy(os.path.join(category_dir, img_name), os.path.join(train_dir, category, img_name))\n",
    "            txt_name = img_name.replace(\".jpg\", \".txt\")\n",
    "            if os.path.exists(os.path.join(category_dir, f\"{category}_YOLO_darknet\", txt_name)):\n",
    "                shutil.copy(\n",
    "                    os.path.join(category_dir, f\"{category}_YOLO_darknet\", txt_name),\n",
    "                    os.path.join(train_dir, category, txt_name)\n",
    "                )\n",
    "        \n",
    "        for img_name in val_images:\n",
    "            shutil.copy(os.path.join(category_dir, img_name), os.path.join(val_dir, category, img_name))\n",
    "            txt_name = img_name.replace(\".jpg\", \".txt\")\n",
    "            if os.path.exists(os.path.join(category_dir, f\"{category}_YOLO_darknet\", txt_name)):\n",
    "                shutil.copy(\n",
    "                    os.path.join(category_dir, f\"{category}_YOLO_darknet\", txt_name),\n",
    "                    os.path.join(val_dir, category, txt_name)\n",
    "                )\n",
    "\n",
    "# Split data\n",
    "split_data()"
   ],
   "id": "c74985d5c439bb0e",
   "outputs": [],
   "execution_count": 18
  },
  {
   "metadata": {
    "ExecuteTime": {
     "end_time": "2024-11-07T19:56:38.523422Z",
     "start_time": "2024-11-07T19:56:38.461249Z"
    }
   },
   "cell_type": "code",
   "source": [
    "model = YOLO(\"yolo11n.pt\")\n",
    "\n",
    "# Evaluate before training"
   ],
   "id": "679b8baebe79cc6f",
   "outputs": [],
   "execution_count": 19
  },
  {
   "metadata": {
    "ExecuteTime": {
     "end_time": "2024-11-07T19:56:39.626372Z",
     "start_time": "2024-11-07T19:56:39.619370Z"
    }
   },
   "cell_type": "code",
   "source": [
    "print(\"Evaluating before training...\")\n",
    "initial_iou = evaluate_model_on_folder(val_dir, val_dir, model)\n",
    "print(\"Initial Mean IoU on validation set:\", initial_iou)"
   ],
   "id": "b40fb6c5d9b96fb7",
   "outputs": [
    {
     "name": "stdout",
     "output_type": "stream",
     "text": [
      "Evaluating before training...\n",
      "Initial Mean IoU on validation set: nan\n"
     ]
    },
    {
     "name": "stderr",
     "output_type": "stream",
     "text": [
      "/Users/vahe/Downloads/DL_homeworks/.venv/lib/python3.12/site-packages/numpy/core/fromnumeric.py:3504: RuntimeWarning: Mean of empty slice.\n",
      "  return _methods._mean(a, axis=axis, dtype=dtype,\n",
      "/Users/vahe/Downloads/DL_homeworks/.venv/lib/python3.12/site-packages/numpy/core/_methods.py:129: RuntimeWarning: invalid value encountered in scalar divide\n",
      "  ret = ret.dtype.type(ret / rcount)\n"
     ]
    }
   ],
   "execution_count": 20
  },
  {
   "metadata": {},
   "cell_type": "code",
   "outputs": [],
   "execution_count": null,
   "source": [
    "# Train the model on the split data\n",
    "print(\"Training model...\")\n",
    "model.train(data=\"./datasets/DAWN_split/data.yaml\", epochs=50, imgsz=640)  # Adjust epochs as needed\n"
   ],
   "id": "93f0cf4d7578d9c4"
  },
  {
   "metadata": {},
   "cell_type": "code",
   "outputs": [],
   "execution_count": null,
   "source": [
    "# Evaluate after training\n",
    "print(\"Evaluating after training...\")\n",
    "final_iou = evaluate_model_on_folder(val_dir, val_dir, model)\n",
    "print(\"Final Mean IoU on validation set:\", final_iou)"
   ],
   "id": "7b0d8aab71fed4e0"
  }
 ],
 "metadata": {
  "kernelspec": {
   "display_name": "Python 3",
   "language": "python",
   "name": "python3"
  },
  "language_info": {
   "codemirror_mode": {
    "name": "ipython",
    "version": 2
   },
   "file_extension": ".py",
   "mimetype": "text/x-python",
   "name": "python",
   "nbconvert_exporter": "python",
   "pygments_lexer": "ipython2",
   "version": "2.7.6"
  }
 },
 "nbformat": 4,
 "nbformat_minor": 5
}
