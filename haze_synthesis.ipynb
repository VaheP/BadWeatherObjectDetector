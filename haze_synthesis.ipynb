{
 "cells": [
  {
   "metadata": {
    "ExecuteTime": {
     "end_time": "2024-12-09T12:48:20.667448Z",
     "start_time": "2024-12-09T12:48:20.652136Z"
    }
   },
   "cell_type": "code",
   "source": [
    "\n",
    "from __future__ import absolute_import, division, print_function\n",
    "\n",
    "import os\n",
    "import sys\n",
    "import glob\n",
    "import argparse\n",
    "import numpy as np\n",
    "import PIL.Image as pil\n",
    "import matplotlib as mpl\n",
    "import matplotlib.cm as cm\n",
    "import cv2\n",
    "\n",
    "import torch\n",
    "from torchvision import transforms, datasets\n",
    "from haze_networks_niantic.depth_decoder import DepthDecoder\n",
    "from haze_networks_niantic.resnet_encoder import ResnetEncoder"
   ],
   "id": "a3b990b2904bc471",
   "outputs": [],
   "execution_count": 8
  },
  {
   "cell_type": "code",
   "id": "initial_id",
   "metadata": {
    "collapsed": true,
    "ExecuteTime": {
     "end_time": "2024-12-09T12:51:59.340137Z",
     "start_time": "2024-12-09T12:51:59.328479Z"
    }
   },
   "source": [
    "def gen_haze(clean_img, depth_img, beta=1.0, A = 150):\n",
    "\n",
    "    depth_img_3c = np.zeros_like(clean_img)\n",
    "    depth_img_3c[:,:,0] = depth_img\n",
    "    depth_img_3c[:,:,1] = depth_img\n",
    "    depth_img_3c[:,:,2] = depth_img\n",
    "\n",
    "    norm_depth_img = depth_img_3c/255\n",
    "    trans = np.exp(-norm_depth_img*beta)\n",
    "\n",
    "    hazy = clean_img*trans + A*(1-trans)\n",
    "    hazy = np.array(hazy, dtype=np.uint8)\n",
    "\n",
    "    return hazy\n",
    "\n",
    "\n",
    "def test_simple(model_path = \"./models\", image_path = \"./images\", output_image_path = \"./depth_images\", beta=0.5, airlight=150, no_cuda = False):\n",
    "\n",
    "\n",
    "\n",
    "    if torch.cuda.is_available() and not no_cuda:\n",
    "        device = torch.device(\"cuda\")\n",
    "    else:\n",
    "        device = torch.device(\"cpu\")\n",
    "\n",
    "\n",
    "    print(\"-> Loading model from \", model_path)\n",
    "    encoder_path = os.path.join(model_path, \"encoder.pth\")\n",
    "    depth_decoder_path = os.path.join(model_path, \"depth.pth\")\n",
    "\n",
    "    # LOADING PRETRAINED MODEL\n",
    "    print(\"   Loading pretrained encoder\")\n",
    "    encoder = ResnetEncoder(18, False)\n",
    "    loaded_dict_enc = torch.load(encoder_path, map_location=device)\n",
    "\n",
    "    # EXTRACT THE HEIGHT AND WIDTH OF IMAGE THAT THIS MODEL WAS TRAINED WITH\n",
    "    feed_height = loaded_dict_enc['height']\n",
    "    feed_width = loaded_dict_enc['width']\n",
    "    filtered_dict_enc = {k: v for k, v in loaded_dict_enc.items() if k in encoder.state_dict()}\n",
    "    encoder.load_state_dict(filtered_dict_enc)\n",
    "    encoder.to(device)\n",
    "    encoder.eval()\n",
    "\n",
    "    print(\"   Loading pretrained decoder\")\n",
    "    depth_decoder = DepthDecoder(\n",
    "        num_ch_enc=encoder.num_ch_enc, scales=range(4))\n",
    "\n",
    "    loaded_dict = torch.load(depth_decoder_path, map_location=device)\n",
    "    depth_decoder.load_state_dict(loaded_dict)\n",
    "\n",
    "    depth_decoder.to(device)\n",
    "    depth_decoder.eval()\n",
    "\n",
    "\n",
    "\n",
    "    # CHECK IF OUTPUT FOLDER EXISTS\n",
    "    if not os.path.isdir(output_image_path):\n",
    "        os.makedirs(output_image_path)\n",
    "\n",
    "    output_dir = output_image_path\n",
    "\n",
    "    # PREDICTING ON EACH IMAGE IN TURN\n",
    "    with torch.no_grad():\n",
    "        # LOAD IMAGE AND PREPROCESS\n",
    "        input_image = pil.open(image_path).convert('RGB')\n",
    "        clean_img = input_image.copy()\n",
    "        original_width, original_height = input_image.size\n",
    "        input_image = input_image.resize((feed_width, feed_height), pil.LANCZOS)\n",
    "        input_image = transforms.ToTensor()(input_image).unsqueeze(0)\n",
    "\n",
    "        # PREDICTION\n",
    "        input_image = input_image.to(device)\n",
    "        features = encoder(input_image)\n",
    "        outputs = depth_decoder(features)\n",
    "\n",
    "        disp = outputs[(\"disp\", 0)]\n",
    "        disp_resized = torch.nn.functional.interpolate(\n",
    "            disp, (original_height, original_width), mode=\"bilinear\", align_corners=False)\n",
    "\n",
    "        # EXTRACT DEPTH IMAGE\n",
    "        disp_resized_np = disp_resized.squeeze().cpu().numpy()\n",
    "        vmax = np.percentile(disp_resized_np, 95)\n",
    "        normalizer = mpl.colors.Normalize(vmin=disp_resized_np.min(), vmax=vmax)\n",
    "        mapper = cm.ScalarMappable(norm=normalizer, cmap='magma')\n",
    "        colormapped_im = (mapper.to_rgba(disp_resized_np)[:, :, :3] * 255).astype(np.uint8)\n",
    "        im = pil.fromarray(colormapped_im)\n",
    "        gray_colormapped_im = cv2.cvtColor(colormapped_im, cv2.COLOR_RGB2GRAY)\n",
    "        inv_gray_colormapped_im = 255 - gray_colormapped_im\n",
    "\n",
    "        # MAKE HAZY IMAGE:\n",
    "        # Change degree of haze by changing 'beta' (recommended value of beta: 0.5 - 3.0)\n",
    "        # High beta -> Thick haze\n",
    "        # Low beta -> Sparse haze\n",
    "        hazy = gen_haze(clean_img, inv_gray_colormapped_im, beta=beta, A=airlight)\n",
    "\n",
    "        # SAVE FILES\n",
    "        output_name = os.path.splitext(os.path.basename(image_path))[0]\n",
    "        cv2.imwrite(f\"{output_dir}/{output_name}_synt.jpg\", cv2.cvtColor(hazy, cv2.COLOR_RGB2BGR))\n",
    "\n",
    "        print(\"   Processed image\".format(image_path))\n",
    "\n",
    "    print(f'-> Done! Find outputs in {output_dir}')"
   ],
   "outputs": [],
   "execution_count": 16
  },
  {
   "metadata": {
    "ExecuteTime": {
     "end_time": "2024-12-09T12:51:07.439651Z",
     "start_time": "2024-12-09T12:51:07.052498Z"
    }
   },
   "cell_type": "code",
   "source": "test_simple(model_path=\"models/mono+stereo_640x192\", image_path=\"test_images/1653387338686_jpg.rf.550e4ec3ee16da6a85143e66728513eb.jpg\", output_image_path=\"output_test_images\", beta=3, airlight=200)",
   "id": "de23ba534e1a950",
   "outputs": [
    {
     "name": "stdout",
     "output_type": "stream",
     "text": [
      "-> Loading model from  models/mono+stereo_640x192\n",
      "   Loading pretrained encoder\n",
      "   Loading pretrained decoder\n"
     ]
    },
    {
     "name": "stderr",
     "output_type": "stream",
     "text": [
      "/var/folders/xp/29_57vq97db1df5xwtq40w7w0000gn/T/ipykernel_12443/2483800644.py:39: FutureWarning: You are using `torch.load` with `weights_only=False` (the current default value), which uses the default pickle module implicitly. It is possible to construct malicious pickle data which will execute arbitrary code during unpickling (See https://github.com/pytorch/pytorch/blob/main/SECURITY.md#untrusted-models for more details). In a future release, the default value for `weights_only` will be flipped to `True`. This limits the functions that could be executed during unpickling. Arbitrary objects will no longer be allowed to be loaded via this mode unless they are explicitly allowlisted by the user via `torch.serialization.add_safe_globals`. We recommend you start setting `weights_only=True` for any use case where you don't have full control of the loaded file. Please open an issue on GitHub for any issues related to this experimental feature.\n",
      "  loaded_dict_enc = torch.load(encoder_path, map_location=device)\n",
      "/var/folders/xp/29_57vq97db1df5xwtq40w7w0000gn/T/ipykernel_12443/2483800644.py:53: FutureWarning: You are using `torch.load` with `weights_only=False` (the current default value), which uses the default pickle module implicitly. It is possible to construct malicious pickle data which will execute arbitrary code during unpickling (See https://github.com/pytorch/pytorch/blob/main/SECURITY.md#untrusted-models for more details). In a future release, the default value for `weights_only` will be flipped to `True`. This limits the functions that could be executed during unpickling. Arbitrary objects will no longer be allowed to be loaded via this mode unless they are explicitly allowlisted by the user via `torch.serialization.add_safe_globals`. We recommend you start setting `weights_only=True` for any use case where you don't have full control of the loaded file. Please open an issue on GitHub for any issues related to this experimental feature.\n",
      "  loaded_dict = torch.load(depth_decoder_path, map_location=device)\n"
     ]
    },
    {
     "name": "stdout",
     "output_type": "stream",
     "text": [
      "   Processed image\n",
      "-> Done! Find outputs in output_test_images\n"
     ]
    }
   ],
   "execution_count": 15
  },
  {
   "metadata": {},
   "cell_type": "code",
   "outputs": [],
   "execution_count": null,
   "source": "",
   "id": "bb5f1b217341e653"
  }
 ],
 "metadata": {
  "kernelspec": {
   "display_name": "Python 3",
   "language": "python",
   "name": "python3"
  },
  "language_info": {
   "codemirror_mode": {
    "name": "ipython",
    "version": 2
   },
   "file_extension": ".py",
   "mimetype": "text/x-python",
   "name": "python",
   "nbconvert_exporter": "python",
   "pygments_lexer": "ipython2",
   "version": "2.7.6"
  }
 },
 "nbformat": 4,
 "nbformat_minor": 5
}
